{
 "cells": [
  {
   "cell_type": "markdown",
   "id": "54c2f84c317194b3",
   "metadata": {},
   "source": [
    "# Homework 2: 12707 and 12607\n",
    "Homework created by Ryan Albelda"
   ]
  },
  {
   "metadata": {},
   "cell_type": "markdown",
   "source": [
    "#### This homework is adapted from Penn State's Applied Atmospheric Data Analysis class. \n",
    "\n",
    "Citation: \n",
    "Best Fit-Regression Example: CO2 & SLC | METEO 815: Applied Atmospheric Data Analysis. (n.d.). Retrieved January 24, 2025, from https://www.e-education.psu.edu/meteo815/node/623\n",
    "\n",
    "#### Data set sources: \n",
    "- The first dataset is yearly global estimates for total carbon emissions from the Oak Ridge National Laboratory, dataset was downloaded from: https://github.com/owid/co2-data?tab=readme-ov-file\n",
    "- The second dataset will be global average absolute sea level change. This dataset was created by Australia’s Commonwealth Scientific and Industrial Research Organization in collaboration with NOAA\n"
   ],
   "id": "8e6807d0c2d336a2"
  },
  {
   "metadata": {},
   "cell_type": "markdown",
   "source": [
    "#### Homework must be uploaded as singular PDF file on gradescope. \n",
    "- Do not upload a python file \n",
    "- Do not upload to canvas\n",
    "\n",
    "When editing a cell with code in it, look for the ### parts to answer the homework \n",
    "\n",
    "This homework request you to leave comments in part of code too. "
   ],
   "id": "49f6795eb6e0edf9"
  },
  {
   "metadata": {},
   "cell_type": "markdown",
   "source": "# Part 1: Name and Objectives \n",
   "id": "59544f27ccaedbbd"
  },
  {
   "metadata": {},
   "cell_type": "markdown",
   "source": [
    "### Homework Objectives\n",
    "\n",
    "1. **Understand key statistical tools used in climate data analysis**  \n",
    "   - Learn how to calculate and interpret the **Pearson correlation coefficient** to assess linear relationships  \n",
    "   - Understand how the **R-squared value** explains model fit in linear regression  \n",
    "   - Explore the meaning and use of **Mean Squared Error (MSE)** as a model accuracy metric  \n",
    "\n",
    "2. **Load and prepare climate datasets for analysis**  \n",
    "   - Load historical **CO₂ emissions** and **sea level rise** data from CSV files using pandas  \n",
    "   - Convert columns to appropriate data types (e.g., parse year columns to datetime format)  \n",
    "   - Clean and extract relevant columns such as year, sea level change, and emissions values  \n",
    "\n",
    "3. **Align and combine datasets based on overlapping time periods**  \n",
    "   - Use pandas filtering to isolate matching years in both datasets  \n",
    "   - Create a combined dataframe to support consistent time series analysis  \n",
    "\n",
    "4. **Visualize climate trends using plots**  \n",
    "   - Plot sea level rise and CO₂ emissions over time with proper labels and units  \n",
    "   - Create scatter plots to compare emissions to sea level rise  \n",
    "   - Add grid lines, trend lines, and customized titles to improve plot readability  \n",
    "\n",
    "5. **Apply linear regression modeling to explore climate relationships**  \n",
    "   - Fit a linear model using scikit-learn’s `LinearRegression` class  \n",
    "   - Plot the regression line alongside raw data to visualize the fit  \n",
    "   - Use correlation metrics to validate relationships observed in the plots  \n",
    "\n",
    "6. **Evaluate regression model performance**  \n",
    "   - Compute **R-squared** to measure explained variance in the target variable  \n",
    "   - Calculate **MSE** to quantify prediction errors  \n",
    "   - Compare results before and after fitting the model to determine improvement  \n",
    "\n",
    "7. **Test a segmented modeling approach for improved accuracy**  \n",
    "   - Split the dataset into two ranges based on a CO₂ threshold (e.g., 10,000 MtCO₂)  \n",
    "   - Fit separate linear models to each range and compare performance metrics  \n",
    "   - Justify the segmentation approach using visual and statistical evidence  \n",
    "\n",
    "8. **Interpret model results and discuss limitations**  \n",
    "   - Reflect on what statistical metrics reveal about model accuracy and bias  \n",
    "   - Evaluate if splitting the data leads to meaningful improvement  \n",
    "   - Summarize limitations of the linear model and propose next steps for better modeling  "
   ],
   "id": "4164abce4ae12e5c"
  },
  {
   "metadata": {},
   "cell_type": "markdown",
   "source": [
    "#### 1) Name, Andrew ID, and time to complete homework\n",
    "\n",
    "'###'"
   ],
   "id": "8d42e8fb1f1245c7"
  },
  {
   "metadata": {},
   "cell_type": "markdown",
   "source": "*answer here*",
   "id": "5a1fcf633a3d632c"
  },
  {
   "metadata": {},
   "cell_type": "markdown",
   "source": "##### Homework consists of 7 parts, 12607 -> skip part 6. ",
   "id": "a67cda46f0d8861e"
  },
  {
   "metadata": {},
   "cell_type": "markdown",
   "source": "# Part 2: Questions about data and loading the data \n",
   "id": "71c96b527218cb67"
  },
  {
   "metadata": {},
   "cell_type": "markdown",
   "source": [
    "### 2) Climate data is different then weather data. We are less concerned about the accuracy of a single measurement. \n",
    "\n",
    "#### Explain why we are less concerned about the precision of a single measurement in climate data compared to weather data. \n",
    "##### Note: Accuracy still does matter, just not as much as it does for weather data.\n",
    "\n",
    "'###'"
   ],
   "id": "d11b9dbcd75ede92"
  },
  {
   "metadata": {},
   "cell_type": "markdown",
   "source": "*answer here* ",
   "id": "a64594f24eb75fbb"
  },
  {
   "metadata": {},
   "cell_type": "markdown",
   "source": [
    "### 3) Load the CO2 dataset.\n",
    "\n",
    "This file is a CSV, so the import will be slightly different than in Homework 1.\n",
    "\n",
    "Fix any placeholder code such as import mathematical functions in python.\n",
    "\n",
    "'###'"
   ],
   "id": "8b2a1b95e2669313"
  },
  {
   "metadata": {
    "ExecuteTime": {
     "end_time": "2025-04-21T14:05:07.937444Z",
     "start_time": "2025-04-21T14:05:07.935345Z"
    }
   },
   "cell_type": "code",
   "source": [
    "# Import packages: \n",
    "import pandas as pd\n",
    "import numpy as np\n",
    "### Fix this part of code to import a real python functon ### \n",
    "import mathematical functions in python"
   ],
   "id": "4b391050a13b81d8",
   "outputs": [
    {
     "ename": "SyntaxError",
     "evalue": "invalid syntax (894126791.py, line 5)",
     "output_type": "error",
     "traceback": [
      "\u001B[0;36m  Cell \u001B[0;32mIn[4], line 5\u001B[0;36m\u001B[0m\n\u001B[0;31m    import mathematical functions in python\u001B[0m\n\u001B[0m                        ^\u001B[0m\n\u001B[0;31mSyntaxError\u001B[0m\u001B[0;31m:\u001B[0m invalid syntax\n"
     ]
    }
   ],
   "execution_count": 4
  },
  {
   "cell_type": "code",
   "id": "95abaaa86647dd67",
   "metadata": {
    "ExecuteTime": {
     "end_time": "2025-04-21T14:05:08.021290Z",
     "start_time": "2025-04-21T14:05:08.015068Z"
    }
   },
   "source": [
    "# Load CO2 data \n",
    "## This time we are working with a CSV, the importing is a little different then last homework \n",
    "###\n",
    "co2 = pd.read_()"
   ],
   "outputs": [
    {
     "ename": "NameError",
     "evalue": "name 'pd' is not defined",
     "output_type": "error",
     "traceback": [
      "\u001B[0;31m---------------------------------------------------------------------------\u001B[0m",
      "\u001B[0;31mNameError\u001B[0m                                 Traceback (most recent call last)",
      "Cell \u001B[0;32mIn[5], line 4\u001B[0m\n\u001B[1;32m      1\u001B[0m \u001B[38;5;66;03m# Load CO2 data \u001B[39;00m\n\u001B[1;32m      2\u001B[0m \u001B[38;5;66;03m## This time we are working with a CSV, the importing is a little different then last homework \u001B[39;00m\n\u001B[1;32m      3\u001B[0m \u001B[38;5;66;03m###\u001B[39;00m\n\u001B[0;32m----> 4\u001B[0m co2 \u001B[38;5;241m=\u001B[39m pd\u001B[38;5;241m.\u001B[39mread_()\n",
      "\u001B[0;31mNameError\u001B[0m: name 'pd' is not defined"
     ]
    }
   ],
   "execution_count": 5
  },
  {
   "metadata": {},
   "cell_type": "markdown",
   "source": "",
   "id": "82783098f8fddb10"
  },
  {
   "metadata": {},
   "cell_type": "markdown",
   "source": [
    "##### Notes on datatypes:\n",
    "\n",
    "Data comes in various types: \"A data type is a set of values and a set of operations defined on those values.\" \n",
    "\n",
    "Common data types: \n",
    "- Strings: used for text \n",
    "- Bool (Boolean): True and false data types\n",
    "- Date_types: Used for dates\n",
    "- float: floating point numbers with decimal places\n",
    "- Int (integer): used for integer values.\n",
    "    - can be known as int32 or int64 --> this has to do with the total number of digits in the data type\n",
    "\n",
    "Learn more here: https://introcs.cs.princeton.edu/python/12types/\n",
    "\n",
    " "
   ],
   "id": "c5d0518c8a8432b8"
  },
  {
   "metadata": {},
   "cell_type": "code",
   "source": [
    "# Here we checked the data type, it shows that it is an int64, not a year metric,\n",
    "#code is needed to change to year \n",
    "print(co2_data['year'].dtype)\n",
    "co2_data.year = pd.to_datetime(co2_data[\"year\"], format=\"%Y\")\n",
    "CO2_time = co2_data[\"year\"]"
   ],
   "id": "aabd404b425f22b0",
   "outputs": [],
   "execution_count": null
  },
  {
   "cell_type": "markdown",
   "id": "6f3ac783631f7cd2",
   "metadata": {},
   "source": [
    "### 4) Why might it be useful to convert the data type to be a date data type compared to an int64 (integer value)?\n",
    "\n",
    "Hint: look at the plots later in the homework to help understand why  \n",
    "\n",
    "'###'"
   ]
  },
  {
   "cell_type": "markdown",
   "id": "e484dc83b01f936b",
   "metadata": {},
   "source": [
    "*answer here*"
   ]
  },
  {
   "cell_type": "code",
   "id": "73f70a8136270c63",
   "metadata": {
    "ExecuteTime": {
     "end_time": "2025-04-21T14:05:08.044973Z",
     "start_time": "2025-04-21T14:05:08.037721Z"
    }
   },
   "source": [
    "# Load in sea level rise data:  \n",
    "## This time we are working with a CSV, the importing is a little different then last homework \n",
    "### set to be for csv \n",
    "sea_level_data = pd.read_('epa-sea-level.csv')\n",
    "\n",
    "#Make sure the data type for year is in datatime format \n",
    "# Convert 'Year' and 'year' columns to datetime\n",
    "sea_level_data['Year'] = pd.to_datetime(sea_level_data['Year'], format='%Y')\n"
   ],
   "outputs": [
    {
     "ename": "NameError",
     "evalue": "name 'pd' is not defined",
     "output_type": "error",
     "traceback": [
      "\u001B[0;31m---------------------------------------------------------------------------\u001B[0m",
      "\u001B[0;31mNameError\u001B[0m                                 Traceback (most recent call last)",
      "Cell \u001B[0;32mIn[6], line 4\u001B[0m\n\u001B[1;32m      1\u001B[0m \u001B[38;5;66;03m# Load in sea level rise data:  \u001B[39;00m\n\u001B[1;32m      2\u001B[0m \u001B[38;5;66;03m## This time we are working with a CSV, the importing is a little different then last homework \u001B[39;00m\n\u001B[1;32m      3\u001B[0m \u001B[38;5;66;03m### set to be for csv \u001B[39;00m\n\u001B[0;32m----> 4\u001B[0m sea_level_data \u001B[38;5;241m=\u001B[39m pd\u001B[38;5;241m.\u001B[39mread_(\u001B[38;5;124m'\u001B[39m\u001B[38;5;124mepa-sea-level.csv\u001B[39m\u001B[38;5;124m'\u001B[39m)\n\u001B[1;32m      6\u001B[0m \u001B[38;5;66;03m#Make sure the data type for year is in datatime format \u001B[39;00m\n\u001B[1;32m      7\u001B[0m \u001B[38;5;66;03m# Convert 'Year' and 'year' columns to datetime\u001B[39;00m\n\u001B[1;32m      8\u001B[0m sea_level_data[\u001B[38;5;124m'\u001B[39m\u001B[38;5;124mYear\u001B[39m\u001B[38;5;124m'\u001B[39m] \u001B[38;5;241m=\u001B[39m pd\u001B[38;5;241m.\u001B[39mto_datetime(sea_level_data[\u001B[38;5;124m'\u001B[39m\u001B[38;5;124mYear\u001B[39m\u001B[38;5;124m'\u001B[39m], \u001B[38;5;28mformat\u001B[39m\u001B[38;5;241m=\u001B[39m\u001B[38;5;124m'\u001B[39m\u001B[38;5;124m%\u001B[39m\u001B[38;5;124mY\u001B[39m\u001B[38;5;124m'\u001B[39m)\n",
      "\u001B[0;31mNameError\u001B[0m: name 'pd' is not defined"
     ]
    }
   ],
   "execution_count": 6
  },
  {
   "cell_type": "code",
   "id": "c840444336a3758c",
   "metadata": {
    "ExecuteTime": {
     "end_time": "2025-04-21T14:05:08.045551Z",
     "start_time": "2025-04-21T14:05:08.045511Z"
    }
   },
   "source": [
    "# Display the first few rows of both datasets to understand their structure\n",
    "sea_level_data.head(), co2_data.head()"
   ],
   "outputs": [],
   "execution_count": null
  },
  {
   "cell_type": "code",
   "id": "d391ab0e1f26db3c",
   "metadata": {
    "ExecuteTime": {
     "end_time": "2025-04-21T14:05:08.107208Z",
     "start_time": "2025-04-21T14:05:08.098289Z"
    }
   },
   "source": [
    "# Extract relevant columns\n",
    "SL_time = sea_level_data['Year']\n",
    "SL = sea_level_data['CSIRO Adjusted Sea Level']\n",
    "\n",
    "### Above we used the pandas data frame head, please isolate the year and CO2 Column \n",
    "CO2_time = co2_data['CURRENTLY INCORRECT']\n",
    "CO2 = co2_data['CHANGE ME']\n",
    "\n",
    "# Calculate the overlapping time range\n",
    "start_time = max(SL_time.min(), CO2_time.min())\n",
    "end_time = min(SL_time.max(), CO2_time.max())\n",
    "\n",
    "# Extract Sea Level and corresponding time\n",
    "SL = SL[(SL_time >= start_time) & (SL_time <= end_time)]\n",
    "time_SL = SL_time[(SL_time >= start_time) & (SL_time <= end_time)]\n",
    "\n",
    "# Extract CO2 and corresponding time\n",
    "CO2 = CO2[(CO2_time >= start_time) & (CO2_time <= end_time)]\n",
    "time_CO2 = CO2_time[(CO2_time >= start_time) & (CO2_time <= end_time)]\n",
    "\n",
    "# Ensure both datasets have the same time range for consistency\n",
    "aligned_data = pd.DataFrame({\n",
    "    \"Year\": time_SL.values,  # Align by year\n",
    "    \"Sea_Level\": SL.values,\n",
    "    \"CO2\": CO2.values\n",
    "}).dropna()\n",
    "\n"
   ],
   "outputs": [
    {
     "ename": "NameError",
     "evalue": "name 'sea_level_data' is not defined",
     "output_type": "error",
     "traceback": [
      "\u001B[0;31m---------------------------------------------------------------------------\u001B[0m",
      "\u001B[0;31mNameError\u001B[0m                                 Traceback (most recent call last)",
      "Cell \u001B[0;32mIn[7], line 2\u001B[0m\n\u001B[1;32m      1\u001B[0m \u001B[38;5;66;03m# Extract relevant columns\u001B[39;00m\n\u001B[0;32m----> 2\u001B[0m SL_time \u001B[38;5;241m=\u001B[39m sea_level_data[\u001B[38;5;124m'\u001B[39m\u001B[38;5;124mYear\u001B[39m\u001B[38;5;124m'\u001B[39m]\n\u001B[1;32m      3\u001B[0m SL \u001B[38;5;241m=\u001B[39m sea_level_data[\u001B[38;5;124m'\u001B[39m\u001B[38;5;124mCSIRO Adjusted Sea Level\u001B[39m\u001B[38;5;124m'\u001B[39m]\n\u001B[1;32m      5\u001B[0m \u001B[38;5;66;03m### Above we used the pandas data frame head, please isolate the year and CO2 Column \u001B[39;00m\n",
      "\u001B[0;31mNameError\u001B[0m: name 'sea_level_data' is not defined"
     ]
    }
   ],
   "execution_count": 7
  },
  {
   "cell_type": "markdown",
   "id": "a38456a6338e156f",
   "metadata": {},
   "source": [
    "### 5) In your own words, explain what is happening in the following lines of code that align the datasets by overlapping time periods\n",
    "\n",
    "'###'"
   ]
  },
  {
   "cell_type": "code",
   "id": "ef5c69fa3ac0232e",
   "metadata": {},
   "source": [
    "SL = SL[(SL_time >= start_time) & (SL_time <= end_time)]\n",
    "time_SL = SL_time[(SL_time >= start_time) & (SL_time <= end_time)]"
   ],
   "outputs": [],
   "execution_count": null
  },
  {
   "cell_type": "markdown",
   "id": "ea12cc50502d8eaa",
   "metadata": {},
   "source": [
    "\n",
    "*answer here* \n"
   ]
  },
  {
   "cell_type": "markdown",
   "id": "d5dfca93ee8e9b09",
   "metadata": {},
   "source": "# Part 3: Plotting the Data"
  },
  {
   "cell_type": "code",
   "id": "35024e1227f1d775",
   "metadata": {
    "ExecuteTime": {
     "end_time": "2025-04-21T14:05:08.220579Z",
     "start_time": "2025-04-21T14:05:08.114995Z"
    }
   },
   "source": [
    "import matplotlib.pyplot as plt\n",
    "\n",
    "# Plot Sea Level Change\n",
    "plt.figure(figsize=(10, 6))\n",
    "plt.grid(visible=True, linewidth=2, color='grey', alpha=0.5)\n",
    "plt.plot(aligned_data['Year'], aligned_data['Sea_Level'], \n",
    "         label=\"Sea Level Change\", linewidth=2)\n",
    "plt.xlabel(\"Time\")\n",
    "plt.ylabel(\"Sea Level Change (Inches)\")\n",
    "plt.title(\"Annual Global Sea Level Change\")\n",
    "plt.xlim(start_time, end_time)\n",
    "plt.show()\n"
   ],
   "outputs": [
    {
     "ename": "NameError",
     "evalue": "name 'aligned_data' is not defined",
     "output_type": "error",
     "traceback": [
      "\u001B[0;31m---------------------------------------------------------------------------\u001B[0m",
      "\u001B[0;31mNameError\u001B[0m                                 Traceback (most recent call last)",
      "Cell \u001B[0;32mIn[8], line 6\u001B[0m\n\u001B[1;32m      4\u001B[0m plt\u001B[38;5;241m.\u001B[39mfigure(figsize\u001B[38;5;241m=\u001B[39m(\u001B[38;5;241m10\u001B[39m, \u001B[38;5;241m6\u001B[39m))\n\u001B[1;32m      5\u001B[0m plt\u001B[38;5;241m.\u001B[39mgrid(visible\u001B[38;5;241m=\u001B[39m\u001B[38;5;28;01mTrue\u001B[39;00m, linewidth\u001B[38;5;241m=\u001B[39m\u001B[38;5;241m2\u001B[39m, color\u001B[38;5;241m=\u001B[39m\u001B[38;5;124m'\u001B[39m\u001B[38;5;124mgrey\u001B[39m\u001B[38;5;124m'\u001B[39m, alpha\u001B[38;5;241m=\u001B[39m\u001B[38;5;241m0.5\u001B[39m)\n\u001B[0;32m----> 6\u001B[0m plt\u001B[38;5;241m.\u001B[39mplot(aligned_data[\u001B[38;5;124m'\u001B[39m\u001B[38;5;124mYear\u001B[39m\u001B[38;5;124m'\u001B[39m], aligned_data[\u001B[38;5;124m'\u001B[39m\u001B[38;5;124mSea_Level\u001B[39m\u001B[38;5;124m'\u001B[39m], \n\u001B[1;32m      7\u001B[0m          label\u001B[38;5;241m=\u001B[39m\u001B[38;5;124m\"\u001B[39m\u001B[38;5;124mSea Level Change\u001B[39m\u001B[38;5;124m\"\u001B[39m, linewidth\u001B[38;5;241m=\u001B[39m\u001B[38;5;241m2\u001B[39m)\n\u001B[1;32m      8\u001B[0m plt\u001B[38;5;241m.\u001B[39mxlabel(\u001B[38;5;124m\"\u001B[39m\u001B[38;5;124mTime\u001B[39m\u001B[38;5;124m\"\u001B[39m)\n\u001B[1;32m      9\u001B[0m plt\u001B[38;5;241m.\u001B[39mylabel(\u001B[38;5;124m\"\u001B[39m\u001B[38;5;124mSea Level Change (Inches)\u001B[39m\u001B[38;5;124m\"\u001B[39m)\n",
      "\u001B[0;31mNameError\u001B[0m: name 'aligned_data' is not defined"
     ]
    },
    {
     "data": {
      "text/plain": [
       "<Figure size 1000x600 with 1 Axes>"
      ],
      "image/png": "[encoded data removed]"
     },
     "metadata": {},
     "output_type": "display_data"
    }
   ],
   "execution_count": 8
  },
  {
   "cell_type": "markdown",
   "id": "589fa0b12f54a7c0",
   "metadata": {},
   "source": [
    "### 6) Create a plot of CO2 emissions over time using matplotlib. Ensure your plot has labeled axes, a title, and a grid.\n",
    "\n",
    "'###'"
   ]
  },
  {
   "cell_type": "code",
   "id": "18e1ce4a9263f478",
   "metadata": {
    "ExecuteTime": {
     "end_time": "2025-04-21T14:05:08.222269Z",
     "start_time": "2025-04-21T14:05:08.222217Z"
    }
   },
   "source": [
    "### Now Plot CO2 Emissions \n",
    "# HINT: only the lines\n",
    "#plt.plot, title, and 1 label changes \n",
    "\n"
   ],
   "outputs": [],
   "execution_count": null
  },
  {
   "cell_type": "markdown",
   "id": "b812183b4538ea69",
   "metadata": {},
   "source": [
    "*As a reminder, the global sea level change is the cumulative sum*. \n",
    "\n",
    "*This means that the starting year (1880) is 0. Then, the anomaly of the sea level for the next year is added to the starting year. The anomaly for each sequential year is added to the previous total. The number at the end is the amount that the sea level has changed since 1880*.\n",
    "\n",
    "*Around the year 2000, the sea level has increased by about 7 inches since 1880. You can see that the two variables do follow a similar pattern, so let’s plot CO2 vs. the sea level to investigate the relationship further*."
   ]
  },
  {
   "cell_type": "markdown",
   "id": "1f907af39f6c442",
   "metadata": {},
   "source": [
    "### 7) True or False: Do CO2 emissions and sea level rise appear to follow a similar trend?\n",
    "\n",
    "'###'"
   ]
  },
  {
   "cell_type": "markdown",
   "id": "c1c182c5e428b7f2",
   "metadata": {},
   "source": "*Answer here*"
  },
  {
   "cell_type": "markdown",
   "id": "af64b3ef25cdfa9f",
   "metadata": {},
   "source": "# Part 4: Linear Model "
  },
  {
   "cell_type": "markdown",
   "id": "7a29bc85483ad937",
   "metadata": {},
   "source": [
    "Given that both graphs look similar lets plot them together. Fix some of the errors left in the plot.\n",
    "\n",
    "Note:  You need to spot the errors in the plot. "
   ]
  },
  {
   "cell_type": "code",
   "id": "8896d29e7d158d55",
   "metadata": {},
   "source": [
    "# Plot CO2 vs. SL\n",
    "plt.scatter(CO2, SL, c='blue', label='Data Points')\n",
    "\n",
    "### Edit bellow, make this correct and the data fit in the plot\n",
    "plt.xlabel(\"NH3 Emissions (Million Metric Tons of CO2)\")\n",
    "plt.ylabel(\"Sea Level Change (light-years)\")\n",
    "plt.title(\"Annual SOMETHING \")\n",
    "plt.xlim(-10000, 3050)\n",
    "plt.ylim(0, 10)\n",
    "\n",
    "# Add grid --> This is correct and does not need to be changed\n",
    "plt.grid(True, linewidth=2, color='grey')"
   ],
   "outputs": [],
   "execution_count": null
  },
  {
   "cell_type": "markdown",
   "id": "4353c9c970f7f78c",
   "metadata": {},
   "source": [
    "### 8) Plot CO2 vs Sea Level. The original plotting code has intentional errors. Fix the axes labels and titles to reflect actual variables and units (e.g., \"CO2 Emissions (MtCO2)\" and \"Sea Level Change (inches)\").\n",
    "\n",
    "Image is in the zip file for the homework called: \"Plot-Goal-HW2.png\"\n",
    "\n",
    "\n",
    "*Note: we are looking for labels and titles on your plot, even a better scale to see the data*\n",
    "\n",
    "'###'"
   ]
  },
  {
   "cell_type": "code",
   "id": "eedb15dc6c5965e1",
   "metadata": {},
   "source": [
    "### Code to be added to your scatter plot above to create a NEW plot with the line and the data \n",
    "\n",
    "# Plot the line\n",
    "x_line = np.arange(0, 40001, 1000)\n",
    "y_line = np.linspace(3, 10, len(x_line))  # Adjusted to match the length of x_line\n",
    "plt.plot(x_line, y_line, 'r-', linewidth=3, label='Trend Line')\n",
    "\n",
    "# Show legend\n",
    "plt.legend()\n",
    "\n",
    "# Show plot\n",
    "plt.show()"
   ],
   "outputs": [],
   "execution_count": null
  },
  {
   "cell_type": "markdown",
   "id": "8dd0c5e0fddd8bfb",
   "metadata": {},
   "source": [
    "You can see that there appears to be a break around 5,000-10,000 CO2. Below that threshold, the data drops off at a different rate. This actually may be a candidate for two linear fits, one between 0 and 10,000 and one after, but for now, let’s focus on the dataset as a whole. Let’s check the correlation coefficient next."
   ]
  },
  {
   "cell_type": "code",
   "id": "7220dd5309afe222",
   "metadata": {},
   "source": [
    "# Calculate the Pearson correlation coefficient\n",
    "corr_pearson = np.corrcoef(aligned_data['Sea_Level'], aligned_data['CO2'])[0, 1]\n",
    "\n",
    "print(f\"The Pearson correlation coefficient between CO2 emissions and sea level change is {corr_pearson}.\")"
   ],
   "outputs": [],
   "execution_count": null
  },
  {
   "cell_type": "markdown",
   "id": "510829013325db4d",
   "metadata": {},
   "source": [
    "#### \"Pearson's correlation coefficient (r) is a measure of the linear association of two variables. The values of correlation coefficient vary from –1 to +1.\" \n",
    "\n",
    "- Positive values of correlation coefficient indicate a tendency of one variable to increase or decrease together with another variable. \n",
    "\n",
    "- Negative values of correlation coefficient indicate a tendency that the increase of values of one variable is associated with the decrease of values of the other variable and vice versa.\n",
    "\n",
    "(2008). Pearson’s Correlation Coefficient. In: Kirch, W. (eds) Encyclopedia of Public Health. Springer, Dordrecht. https://doi.org/10.1007/978-1-4020-5614-7_2569\n",
    "\n"
   ]
  },
  {
   "cell_type": "markdown",
   "id": "ec01185ec5478072",
   "metadata": {},
   "source": [
    "### 9) Based on the Pearson correlation coefficient what do know about the relationship between our variables? Why do you think we checked for the value compared to just looking at the plot? \n",
    "\n",
    "'###'"
   ]
  },
  {
   "cell_type": "markdown",
   "id": "dc611a979bd21d80",
   "metadata": {},
   "source": [
    "*answer here*"
   ]
  },
  {
   "cell_type": "markdown",
   "id": "62ab17329d3702d7",
   "metadata": {},
   "source": [
    "  ### The assumptions for applying Pearson's correlation coefficient are \n",
    "- linear relationship between variables \n",
    "- continuous random variables \n",
    "- variables must be normally distributed \n",
    " - variables must be independent of each other\n",
    " "
   ]
  },
  {
   "cell_type": "markdown",
   "id": "8fd37c98089b8b80",
   "metadata": {},
   "source": [
    "#### Now we will run linear regression on the model"
   ]
  },
  {
   "cell_type": "code",
   "id": "cb4533ca451941e9",
   "metadata": {},
   "source": [
    "from sklearn.linear_model import LinearRegression\n",
    "# Linear regression model\n",
    "X = aligned_data['CO2'].values.reshape(-1, 1)\n",
    "y = aligned_data['Sea_Level'].values\n",
    "model = LinearRegression()\n",
    "model.fit(X, y)\n",
    "\n",
    "# Plotting\n",
    "plt.figure()\n",
    "plt.scatter(aligned_data['CO2'], aligned_data['Sea_Level'], c='blue', label='Data Points')\n"
   ],
   "outputs": [],
   "execution_count": null
  },
  {
   "metadata": {},
   "cell_type": "markdown",
   "source": [
    "### 10) Plot your scatter plot again. Add in grid lines, fix the labels, titles and add in the linear model line. \n",
    "\n",
    "'###'"
   ],
   "id": "3cc32be318b34b0c"
  },
  {
   "cell_type": "code",
   "id": "9995e2e0b95139d9",
   "metadata": {},
   "source": [
    "\n",
    "#### Edit bellow --> this is plotting code from above \n",
    "plt.xlabel(\"NH3 Emissions (Million Metric Tons of CO2)\")\n",
    "plt.ylabel(\"Sea Level Change (light-years)\")\n",
    "plt.title(\"Annual SOMETHING \")\n",
    "plt.xlim(-10000, 3050)\n",
    "plt.ylim(0, 10)\n",
    "plt.grid(True, linewidth=2, color='grey')\n",
    "\n",
    "\n",
    "\n",
    "# Plot the linear model --> DO NOT CHANGE THIS PART\n",
    "x_line = np.arange(0, 40001, 1000)\n",
    "y_line = model.predict(x_line.reshape(-1, 1))\n",
    "plt.plot(x_line, y_line, 'r-', linewidth=3, label='Linear Model')\n",
    "\n",
    "plt.legend()\n",
    "plt.show()"
   ],
   "outputs": [],
   "execution_count": null
  },
  {
   "cell_type": "markdown",
   "id": "f18d33199512ca82",
   "metadata": {},
   "source": [
    "This looks pretty good. Lets check the R-squared value and the Mean Squared Error (MSE) to see how well we did. "
   ]
  },
  {
   "cell_type": "markdown",
   "id": "283e1e25aabbd5af",
   "metadata": {},
   "source": "# Part 5: R-squared and MSE"
  },
  {
   "cell_type": "markdown",
   "id": "68e955b1299bb057",
   "metadata": {},
   "source": [
    " #### R-squared helps you understand how well your model explains the variance in the target variable, while MSE gives you a sense of the accuracy of your model’s predictions. \n",
    " \n",
    "By using these metrics together, you can gain a deeper insight into the strengths and weaknesses of your regression model."
   ]
  },
  {
   "cell_type": "markdown",
   "id": "fabcff146d8cf2f1",
   "metadata": {},
   "source": [
    "## R-squared\n",
    "##### Often we are looking for a R-square that is close to 1, but there is a bit of nuance to that. "
   ]
  },
  {
   "cell_type": "markdown",
   "id": "9d05cfb4522d59e9",
   "metadata": {},
   "source": [
    "\"R-squared is the “percent of variance explained” by the model. That is, R-squared is the fraction by which the variance of the errors is less than the variance of the dependent variable. \"\n",
    "\n",
    "https://people.duke.edu/~rnau/rsquared.htm#:~:text=R%2Dsquared%20is%20the%20%E2%80%9Cpercent,variance%20of%20the%20dependent%20variable."
   ]
  },
  {
   "metadata": {},
   "cell_type": "markdown",
   "source": [
    "### 11) After training the model, add a code comment explaining what y represents in your regression. Print the R-squared value to two decimal places.\n",
    "'###'"
   ],
   "id": "c79fba51911359ac"
  },
  {
   "metadata": {},
   "cell_type": "code",
   "source": [
    "#Lets explain some model variance: \n",
    "from sklearn.metrics import r2_score\n",
    "# Calculate r-squared value\n",
    "y_pred = model.predict(X)\n",
    "\n",
    "\n",
    "### Insert a comment in the code to remind the user what y is here\n",
    "r_squared = r2_score(y, y_pred)\n",
    "\n",
    "### Write a print statement with just two decimals of the r_squared value too \n",
    "print(f\"The R-squared value of the linear model is .\")\n",
    "\n"
   ],
   "id": "7ffe0dbec2ed60ab",
   "outputs": [],
   "execution_count": null
  },
  {
   "metadata": {},
   "cell_type": "markdown",
   "source": [
    "### 12) Provide the link to the scikit-learn documentation for r2_score and summarize what it calculates.\n",
    "\n",
    "'###'"
   ],
   "id": "f0d4180ea1e608d2"
  },
  {
   "cell_type": "markdown",
   "id": "6fa546e937c2de6a",
   "metadata": {},
   "source": [
    "*answer here*"
   ]
  },
  {
   "cell_type": "markdown",
   "id": "a0b81a06757b7a16",
   "metadata": {},
   "source": [
    "## Mean Squared Error (MSE)\n",
    "\n",
    "\"mean squared error (MSE), the average squared difference between the value observed in a statistical study and the values predicted from a model\" https://www.britannica.com/science/mean-squared-error"
   ]
  },
  {
   "metadata": {},
   "cell_type": "markdown",
   "source": [
    "### 13) In your MSE calculation, add a comment explaining the variable y. Print the final MSE to two decimal places.\n",
    "\n",
    "'###"
   ],
   "id": "f3df96383bfa039d"
  },
  {
   "cell_type": "code",
   "id": "14aedfcacb02f394",
   "metadata": {},
   "source": [
    "from sklearn.metrics import mean_squared_error\n",
    "# Calculate Mean Squared Error (MSE)\n",
    "y_pred = model.predict(X)\n",
    "\n",
    "### Add a comment to remind the users of what y is here \n",
    "mse = mean_squared_error(y, y_pred)\n",
    "\n",
    "print(f\"The Mean Squared Error (MSE) of the linear model is {mse:.2f}.\")"
   ],
   "outputs": [],
   "execution_count": null
  },
  {
   "cell_type": "markdown",
   "id": "5667c0529a7c5010",
   "metadata": {},
   "source": [
    "# Part 6: Improved Linear Model \n",
    "#### 12607 students: skip this part\n"
   ]
  },
  {
   "cell_type": "markdown",
   "id": "7828ac03e38f09b6",
   "metadata": {},
   "source": [
    "Visually, the fit is pretty good except for CO2 emissions less than 10,000. \n",
    "\n",
    "Quantitatively, we get an R2 of 0.93 which is pretty good, but let’s split our data up into two parts and create two separate linear models. This may prove to be a better representation. I’m going to create two datasets, one for CO2 less than 10,000 and one for values greater. Let's also re-calculate the correlation. \n"
   ]
  },
  {
   "metadata": {},
   "cell_type": "markdown",
   "source": [
    "### 14) Add print statements showing the Pearson correlation coefficient for the split data (CO2 < 10,000 vs CO2 >= 10,000).\n",
    "\n",
    "'###'"
   ],
   "id": "6559b0459470cf97"
  },
  {
   "cell_type": "code",
   "id": "9ed4913e4fcc168",
   "metadata": {},
   "source": [
    "# Split CO2 data\n",
    "less_index = aligned_data[aligned_data['CO2'] < 10000].index\n",
    "greater_index = aligned_data[aligned_data['CO2'] >= 10000].index\n",
    "\n",
    "# Calculate Pearson correlation coefficient for each subset\n",
    "corr_pearson_less = np.corrcoef(aligned_data.loc[less_index, 'CO2'], aligned_data.loc[less_index, 'Sea_Level'])[0, 1]\n",
    "corr_pearson_greater = np.corrcoef(aligned_data.loc[greater_index, 'CO2'], aligned_data.loc[greater_index, 'Sea_Level'])[0, 1]\n",
    "\n",
    "### Add in print statements \n"
   ],
   "outputs": [],
   "execution_count": null
  },
  {
   "cell_type": "markdown",
   "id": "8f343da31c2d2ebf",
   "metadata": {},
   "source": [
    "#### Let's Plot again and split the data to have two linear regression lines: "
   ]
  },
  {
   "cell_type": "code",
   "id": "d6e392b35aa57fc9",
   "metadata": {},
   "source": [
    "# Linear regression model for CO2 < 10000\n",
    "X_less = aligned_data.loc[less_index, 'CO2'].values.reshape(-1, 1)\n",
    "y_less = aligned_data.loc[less_index, 'Sea_Level'].values\n",
    "model_less = LinearRegression()\n",
    "model_less.fit(X_less, y_less)\n",
    "\n",
    "# Linear regression model for CO2 >= 10000\n",
    "X_greater = aligned_data.loc[greater_index, 'CO2'].values.reshape(-1, 1)\n",
    "y_greater = aligned_data.loc[greater_index, 'Sea_Level'].values\n",
    "\n",
    "# Check if there are enough data points for the greater subset\n",
    "if len(X_greater) > 0:\n",
    "    model_greater = LinearRegression()\n",
    "    model_greater.fit(X_greater, y_greater)\n",
    "\n",
    "# Plotting\n",
    "plt.figure()\n",
    "plt.scatter(aligned_data['CO2'], aligned_data['Sea_Level'], c='blue', label='Data Points')\n",
    "plt.xlabel(\"CO2 Emissions (Million Metric Tons of CO2)\")\n",
    "plt.ylabel(\"Sea Level Change (Inches)\")\n",
    "plt.title(\"Annual Global CO2 vs. SL Change\")\n",
    "plt.xlim(0, 40000)\n",
    "plt.ylim(0, 10)\n",
    "plt.grid(True, linewidth=2, color='grey')\n",
    "\n",
    "# Plot the linear model for CO2 < 10000\n",
    "x_line_less = np.arange(0, 10000)\n",
    "y_line_less = model_less.predict(x_line_less.reshape(-1, 1))\n",
    "plt.plot(x_line_less, y_line_less, 'r-', linewidth=3, label='Linear Model (CO2 < 10000)')\n",
    "\n",
    "# Plot the linear model for CO2 >= 10000 if there are enough data points\n",
    "if len(X_greater) > 0:\n",
    "    x_line_greater = np.arange(10000, 40001)\n",
    "    y_line_greater = model_greater.predict(x_line_greater.reshape(-1, 1))\n",
    "    plt.plot(x_line_greater, y_line_greater, 'g-', linewidth=3, label='Linear Model (CO2 >= 10000)')\n",
    "\n",
    "plt.legend()\n",
    "plt.show()"
   ],
   "outputs": [],
   "execution_count": null
  },
  {
   "cell_type": "code",
   "id": "ec913fe3a3780043",
   "metadata": {},
   "source": [
    "# THIS IS HERE FOR REFERENCE \n",
    "\n",
    "# Check if there are enough data points for the greater subset\n",
    "if len(X_greater) > 0:\n",
    "    model_greater = LinearRegression()\n",
    "    model_greater.fit(X_greater, y_greater)\n",
    " "
   ],
   "outputs": [],
   "execution_count": null
  },
  {
   "cell_type": "markdown",
   "id": "df774b6ce181aec6",
   "metadata": {},
   "source": [
    "### 15) Explain why we need to check if there are enough data points for the higher CO2 range before fitting a model.\n",
    "\n",
    "'###'"
   ]
  },
  {
   "cell_type": "markdown",
   "id": "8b1f1bb11f03f960",
   "metadata": {},
   "source": [
    "*Answer here*"
   ]
  },
  {
   "cell_type": "code",
   "id": "c656ba06be131da0",
   "metadata": {},
   "source": [
    "### Comment line by line here with this code and explain what is doing: \n",
    "\n",
    "# Plot the linear model for CO2 >= 10000 if there are enough data points\n",
    "if len(X_greater) > 0:\n",
    "    #### write comments here \n",
    "    x_line_greater = np.arange(10000, 40001)\n",
    "      #range of CO2 emissions for which the linear model will be plotted, the array contains values starting from 10,000 up to (but not including) 40,001,\n",
    "    y_line_greater = model_greater.predict(x_line_greater.reshape(-1, 1))\n",
    "      #### write comments here \n",
    "    plt.plot(x_line_greater, y_line_greater, 'g-', linewidth=3, label='Linear Model (CO2 >= 10000)')\n",
    "      # Makes a good looking plot \n"
   ],
   "outputs": [],
   "execution_count": null
  },
  {
   "cell_type": "markdown",
   "id": "7b2f53b04a633763",
   "metadata": {},
   "source": [
    "### Lets solve our R-squared and MSE again and see if things improved "
   ]
  },
  {
   "cell_type": "code",
   "id": "4227aa20940139c0",
   "metadata": {},
   "source": [
    "# Calculate MSE and R-squared value for CO2 < 10000\n",
    "mse_less = mean_squared_error(y_less, model_less.predict(X_less))\n",
    "r_squared_less = r2_score(y_less, model_less.predict(X_less))\n",
    "\n",
    "print(f\"MSE for CO2 < 10000: {mse_less:.2f}\")\n",
    "print(f\"R-squared for CO2 < 10000: {r_squared_less:.2f}\")\n",
    "\n"
   ],
   "outputs": [],
   "execution_count": null
  },
  {
   "metadata": {},
   "cell_type": "markdown",
   "source": [
    "### 16) Replace the question marks in the code calculating MSE and R-squared for the higher CO2 subset with the correct model variable.\n",
    "\n",
    "'###'"
   ],
   "id": "28173f510ca7b469"
  },
  {
   "cell_type": "code",
   "id": "891db057f71ac573",
   "metadata": {},
   "source": [
    "# Calculate MSE and R-squared value for CO2 >= 10000\n",
    "\n",
    "### Replace the question marks with the correct variable \n",
    "mse_greater = mean_squared_error(y_greater, ? .predict(X_greater))\n",
    "r_squared_greater = r2_score(y_greater, ? .predict(X_greater))\n",
    "\n",
    "print(f\"MSE for CO2 >= 10000: {mse_greater:.2f}\")\n",
    "print(f\"R-squared for CO2 >= 10000: {r_squared_greater:.2f}\")\n"
   ],
   "outputs": [],
   "execution_count": null
  },
  {
   "cell_type": "markdown",
   "id": "2106ba45f8b27ff",
   "metadata": {},
   "source": "# Part 7: Discussion "
  },
  {
   "cell_type": "markdown",
   "id": "7942eb627534242",
   "metadata": {},
   "source": [
    "### 17) Based on your split-model results (MSE and R-squared), does splitting the data improve the model fit? Why or why not?\n",
    "'###'\n",
    "\n",
    "This question directly addresses the comparison of model performance before and after splitting the data, focusing on the metrics (MSE and R-squared) to evaluate the fit."
   ]
  },
  {
   "cell_type": "markdown",
   "id": "538fdba246c2715c",
   "metadata": {},
   "source": [
    "*answer here*"
   ]
  },
  {
   "cell_type": "markdown",
   "id": "5fb097c7c6120712",
   "metadata": {},
   "source": [
    "### Lets learn a bit more about R-squared: \n",
    "\n",
    "Visit the following website from Duke. https://people.duke.edu/~rnau/rsquared.htm#punchline, \n",
    "\n",
    "#### 18) Write 3-5 bullet points with summary notes from the section: Guidelines for interpreting R-squared (Bottom part of the page starts with \"So, what IS a good value\").  \n",
    "\n",
    "'###'"
   ]
  },
  {
   "cell_type": "markdown",
   "id": "2e70fd4686a50f2c",
   "metadata": {},
   "source": [
    "* Bullet point 1 \n",
    "* Bullet point 2 \n",
    "* Bullet point 3"
   ]
  },
  {
   "cell_type": "markdown",
   "id": "f9cf26419d81a19d",
   "metadata": {},
   "source": [
    "### Lets learn a bit more about MSE: \n",
    "#### 19) Why is it hard to define a \"good\" MSE value? Write a brief explanation.\n",
    "\n",
    "'###'"
   ]
  },
  {
   "metadata": {},
   "cell_type": "markdown",
   "source": "*answer here*\n",
   "id": "f60f6a1f3de78e94"
  },
  {
   "metadata": {},
   "cell_type": "code",
   "outputs": [],
   "execution_count": null,
   "source": "",
   "id": "6ddca4ca26572b42"
  }
 ],
 "metadata": {
  "kernelspec": {
   "display_name": "Python 3 (ipykernel)",
   "language": "python",
   "name": "python3"
  },
  "language_info": {
   "codemirror_mode": {
    "name": "ipython",
    "version": 3
   },
   "file_extension": ".py",
   "mimetype": "text/x-python",
   "name": "python",
   "nbconvert_exporter": "python",
   "pygments_lexer": "ipython3",
   "version": "3.12.4"
  }
 },
 "nbformat": 4,
 "nbformat_minor": 5
}
