{
 "cells": [
  {
   "cell_type": "markdown",
   "id": "27abb2a1081632a9",
   "metadata": {},
   "source": [
    "# Homework 1: 12707 and 12607\n",
    "\n",
    "This homework was created by Ryan Albelda\n",
    "\n",
    "Inspired by: Resources—ISL with Python. (n.d.). An Introduction to Statistical Learning. Retrieved December 29, 2024, from https://www.statlearning.com/resources-python"
   ]
  },
  {
   "cell_type": "markdown",
   "id": "6db2461ab35b7af4",
   "metadata": {},
   "source": [
    "## Python Skills Check: \n",
    "This homework is assuming students have little knowledge of python. Ideally students have programmed a little in R, VBA, SQL or something similar.  The goal is to introduce students to using python. \n"
   ]
  },
  {
   "cell_type": "markdown",
   "id": "93583b1ce716c8c6",
   "metadata": {},
   "source": [
    "### About data: \n",
    "\n",
    "The data in this problem set consists of different temperature measurements across cities in Pennsylvania. This dataset was cleaned before presented to students. \n",
    "\n",
    "Data sourced from: City Time Series, Climate at a Glance | City Time Series | National Centers for Environmental Information (NCEI). (n.d.). Retrieved December 30, 2024, from https://www.ncei.noaa.gov/access/monitoring/climate-at-a-glance/city/time-series/USW00014860/tmax/1/1/1895-2024?base_prd=true&begbaseyear=1991&endbaseyear=2020"
   ]
  },
  {
   "cell_type": "markdown",
   "id": "72708244ce7f099",
   "metadata": {},
   "source": [
    "#### Directions: \n",
    "Complete each section of this homework. Answer each question where you see the '###'. "
   ]
  },
  {
   "cell_type": "markdown",
   "id": "43cc61b190469ecc",
   "metadata": {},
   "source": [
    "# Part 1: Name, Homework Objectives"
   ]
  },
  {
   "cell_type": "markdown",
   "id": "f7d7ddc072456559",
   "metadata": {},
   "source": [
    "#### 1) Name, Andrew ID, Time to finish the homework \n",
    "\n",
    "\n",
    "'###' "
   ]
  },
  {
   "cell_type": "markdown",
   "id": "11aac739fb0f155",
   "metadata": {},
   "source": [
    "#### Objectives of Homework\n",
    "\n",
    "#### 1. Review and practice foundational Python skills for climate data analysis\n",
    "- Import key Python libraries used in data science workflows (`numpy`, `pandas`, `matplotlib`, `scikit-learn`)\n",
    "- Describe the basic purpose and functionality of each imported library\n",
    "\n",
    "#### 2. Apply basic Python operations and programming logic\n",
    "- Perform fundamental arithmetic operations using Python\n",
    "- Use exponentiation correctly with different Python syntax approaches\n",
    "- Write and execute a `while` loop to perform iterative calculations\n",
    "- Perform element-wise addition of two lists representing arrays\n",
    "\n",
    "#### 3. Load and explore climate datasets\n",
    "- Import historical temperature data from an Excel file using `pandas`\n",
    "- Display the first few rows of a dataset using `df.head()` for initial inspection\n",
    "- Extract specific city data from a larger dataset for focused analysis\n",
    "\n",
    "#### 4. Visualize climate data using plots\n",
    "- Create a line plot of historical temperature trends for a selected city\n",
    "- Properly label plot axes and add a clear and descriptive title\n",
    "- Customize plot appearance with markers and figure sizing for better readability\n",
    "\n",
    "#### 5. Apply linear regression modeling to temperature data\n",
    "- Understand the purpose of using linear regression to detect climate trends\n",
    "- Extract independent (year) and dependent (temperature) variables from the dataset\n",
    "- Fit a simple linear regression model using scikit-learn’s `LinearRegression`\n",
    "- Predict temperature trends over time and overlay the regression line on the original plot\n",
    "- Interpret model slope and intercept in the context of climate data\n",
    "\n",
    "#### 6. Analyze and visualize data distributions with histograms\n",
    "- Create a histogram to visualize the distribution of temperatures for a selected city\n",
    "- Adjust bin size to control histogram resolution and improve interpretability\n",
    "- Label axes and provide descriptive titles for all visualizations\n",
    "\n",
    "#### 7. Understand the importance of preprocessing and data standardization\n",
    "- Learn why scaling and standardizing data is critical for analysis and modeling\n",
    "- Apply standard scaling to transform temperature data to zero mean and unit variance\n",
    "- Plot and compare histograms before and after standardization\n",
    "\n",
    "\n",
    "#### Optional Section:  Build familiarity with basic numpy array operations\n",
    "- Practice creating 1D and 2D numpy arrays with specific values\n",
    "- Stack, append, and manipulate numpy arrays to prepare data structures for analysis\n",
    "- Generate random arrays using normal distributions for practice with statistical data simulation"
   ]
  },
  {
   "cell_type": "markdown",
   "id": "29fd236148ee9e56",
   "metadata": {},
   "source": [
    "# Part 2: Import key libraries\n",
    "\n",
    "Python libraries are collections of pre-written code and functions to help code perform specific functions and tasks"
   ]
  },
  {
   "cell_type": "markdown",
   "id": "f7d5524dd53edd1",
   "metadata": {},
   "source": [
    "#### 2) Importing libraries\n",
    "\n",
    "To begin this assignment, you are required to import the following packages into your Python environment:\n",
    "\n",
    "- `numpy`\n",
    "- `pandas`\n",
    "- `LinearRegression` from `sklearn.linear_model`\n",
    "- `matplotlib.pyplot` as `plt`\n",
    "- `StandardScaler` from `sklearn.preprocessing`\n",
    "\n",
    "Make sure these packages are correctly installed in your environment before proceeding. Use `pip install <package_name>` if any packages are missing.\n"
   ]
  },
  {
   "cell_type": "code",
   "execution_count": 37,
   "id": "2aae429e275507e2",
   "metadata": {
    "ExecuteTime": {
     "end_time": "2025-04-27T14:54:10.541329Z",
     "start_time": "2025-04-27T14:54:10.538616Z"
    }
   },
   "outputs": [],
   "source": [
    "### Write code here"
   ]
  },
  {
   "cell_type": "markdown",
   "id": "baa924023b875f42",
   "metadata": {},
   "source": [
    "### Write 1-2 sentences for each of the packages on what they are used for. Edit markdown cells to do this. \n",
    "\n",
    "The objective of this is to have you know about these common packages and practice adding in clean and clear markdown cells. "
   ]
  },
  {
   "cell_type": "markdown",
   "id": "d831ea1bbd6b4339",
   "metadata": {},
   "source": [
    "#### 3) Explain numpy"
   ]
  },
  {
   "cell_type": "markdown",
   "id": "c4ad7a2f08df54f9",
   "metadata": {},
   "source": [
    "*answer here*  ###"
   ]
  },
  {
   "cell_type": "markdown",
   "id": "ed48619bc05f874e",
   "metadata": {},
   "source": [
    "#### 4) Explain pandas"
   ]
  },
  {
   "cell_type": "markdown",
   "id": "351dde381faf710b",
   "metadata": {},
   "source": [
    "*answer here* ###\n"
   ]
  },
  {
   "cell_type": "markdown",
   "id": "cd9cec7a83444240",
   "metadata": {},
   "source": [
    "#### 5) Explain Matplotlib  \n"
   ]
  },
  {
   "cell_type": "markdown",
   "id": "5a08408edc4b7c5e",
   "metadata": {},
   "source": [
    "*answer here*  ###"
   ]
  },
  {
   "cell_type": "markdown",
   "id": "816df37acb8da0f3",
   "metadata": {},
   "source": [
    "#### 6) Explain Sklearn  "
   ]
  },
  {
   "cell_type": "markdown",
   "id": "e115b0975c46731f",
   "metadata": {},
   "source": [
    "*answer here* ### "
   ]
  },
  {
   "cell_type": "markdown",
   "id": "eef085e7d073d797",
   "metadata": {},
   "source": [
    "# Part 2: Basic Python Functions "
   ]
  },
  {
   "cell_type": "markdown",
   "id": "48105eb177fc44",
   "metadata": {},
   "source": [
    "### 7) Perform the following: \n",
    "\n",
    "A = 4 + 5 * 8 \n",
    "\n",
    "B = 5^2, there are two different ways to square 5. Use both for full credit. Print one method as b, and the other method as B. \n",
    "\n",
    "print the answer for A and B, b \n",
    "\n",
    "###\n",
    " "
   ]
  },
  {
   "cell_type": "code",
   "execution_count": 38,
   "id": "42e644d4f62bba51",
   "metadata": {
    "ExecuteTime": {
     "end_time": "2025-04-27T14:54:10.608128Z",
     "start_time": "2025-04-27T14:54:10.606666Z"
    }
   },
   "outputs": [],
   "source": [
    "# Basic math: Enter code here \n",
    "###"
   ]
  },
  {
   "cell_type": "markdown",
   "id": "42bdd698345dc039",
   "metadata": {},
   "source": "### 8) Create a string that prints \"I'm at CMU\""
  },
  {
   "cell_type": "code",
   "execution_count": 39,
   "id": "27298023fb8d19f4",
   "metadata": {
    "ExecuteTime": {
     "end_time": "2025-04-27T14:54:10.616027Z",
     "start_time": "2025-04-27T14:54:10.614588Z"
    }
   },
   "outputs": [],
   "source": [
    "# String: Enter code here \n",
    "###"
   ]
  },
  {
   "cell_type": "markdown",
   "id": "9e698098efd1bbea",
   "metadata": {},
   "source": [
    "### 9) Isolate the 2nd value ('4') from the list of squares. \n",
    "squares = [1, 4, 9, 16, 25]"
   ]
  },
  {
   "cell_type": "code",
   "execution_count": 40,
   "id": "5587201293d1ecf2",
   "metadata": {
    "ExecuteTime": {
     "end_time": "2025-04-27T14:54:10.618599Z",
     "start_time": "2025-04-27T14:54:10.617084Z"
    }
   },
   "outputs": [],
   "source": [
    "# Lists: Enter code here \n",
    "###"
   ]
  },
  {
   "cell_type": "markdown",
   "id": "ee02a1c198920b40",
   "metadata": {},
   "source": [
    "### 10) Write out a while loop. For this loop sum the values of a and b, until the sum reaches 8. In each iteration of the loop, add one to a.\n",
    "\n",
    "a = 1 \n",
    "b = 1\n"
   ]
  },
  {
   "cell_type": "code",
   "execution_count": 41,
   "id": "84a6e7c1f6123984",
   "metadata": {
    "ExecuteTime": {
     "end_time": "2025-04-27T14:54:10.627894Z",
     "start_time": "2025-04-27T14:54:10.626103Z"
    }
   },
   "outputs": [],
   "source": [
    "# Loop: Enter code here \n",
    "###\n",
    "a = 1\n",
    "b = 1"
   ]
  },
  {
   "cell_type": "markdown",
   "id": "ba39528beda4d56b",
   "metadata": {},
   "source": [
    "### 11) Sum x and y. Sum element by element. Print the result \n",
    "\n",
    "x = [3, 4, 5] \n",
    "\n",
    "y = [4, 9, 7] "
   ]
  },
  {
   "cell_type": "code",
   "execution_count": 42,
   "id": "a85f414e942122b2",
   "metadata": {
    "ExecuteTime": {
     "end_time": "2025-04-27T14:54:10.630113Z",
     "start_time": "2025-04-27T14:54:10.628677Z"
    }
   },
   "outputs": [],
   "source": [
    "# Arrays, enter code here \n",
    "###\n",
    "x = [3, 4, 5] \n",
    "y = [4, 9, 7] "
   ]
  },
  {
   "cell_type": "markdown",
   "id": "eda564d397e8a5ba",
   "metadata": {},
   "source": [
    "# Part 3: Import, Plot, and do linear regression \n"
   ]
  },
  {
   "cell_type": "markdown",
   "id": "84f7eae730e6fd86",
   "metadata": {},
   "source": "### 12) Import 'PA Towns Temperature Data.xlsx', use df.head(5) to see the first 5 rows of the data: \n"
  },
  {
   "cell_type": "code",
   "execution_count": 43,
   "id": "a44a31d62bda23bd",
   "metadata": {
    "ExecuteTime": {
     "end_time": "2025-04-27T14:54:10.904554Z",
     "start_time": "2025-04-27T14:54:10.631349Z"
    }
   },
   "outputs": [
    {
     "ename": "FileNotFoundError",
     "evalue": "[Errno 2] No such file or directory: '###'",
     "output_type": "error",
     "traceback": [
      "\u001B[0;31m---------------------------------------------------------------------------\u001B[0m",
      "\u001B[0;31mFileNotFoundError\u001B[0m                         Traceback (most recent call last)",
      "Cell \u001B[0;32mIn[43], line 2\u001B[0m\n\u001B[1;32m      1\u001B[0m \u001B[38;5;66;03m# Import the file path: \u001B[39;00m\n\u001B[0;32m----> 2\u001B[0m df \u001B[38;5;241m=\u001B[39m pd\u001B[38;5;241m.\u001B[39mread_excel(\u001B[38;5;124m'\u001B[39m\u001B[38;5;124m###\u001B[39m\u001B[38;5;124m'\u001B[39m)\n\u001B[1;32m      3\u001B[0m \u001B[38;5;28mprint\u001B[39m(df\u001B[38;5;241m.\u001B[39mhead(\u001B[38;5;241m5\u001B[39m))\n",
      "File \u001B[0;32m~/miniconda3/lib/python3.12/site-packages/pandas/io/excel/_base.py:495\u001B[0m, in \u001B[0;36mread_excel\u001B[0;34m(io, sheet_name, header, names, index_col, usecols, dtype, engine, converters, true_values, false_values, skiprows, nrows, na_values, keep_default_na, na_filter, verbose, parse_dates, date_parser, date_format, thousands, decimal, comment, skipfooter, storage_options, dtype_backend, engine_kwargs)\u001B[0m\n\u001B[1;32m    493\u001B[0m \u001B[38;5;28;01mif\u001B[39;00m \u001B[38;5;129;01mnot\u001B[39;00m \u001B[38;5;28misinstance\u001B[39m(io, ExcelFile):\n\u001B[1;32m    494\u001B[0m     should_close \u001B[38;5;241m=\u001B[39m \u001B[38;5;28;01mTrue\u001B[39;00m\n\u001B[0;32m--> 495\u001B[0m     io \u001B[38;5;241m=\u001B[39m ExcelFile(\n\u001B[1;32m    496\u001B[0m         io,\n\u001B[1;32m    497\u001B[0m         storage_options\u001B[38;5;241m=\u001B[39mstorage_options,\n\u001B[1;32m    498\u001B[0m         engine\u001B[38;5;241m=\u001B[39mengine,\n\u001B[1;32m    499\u001B[0m         engine_kwargs\u001B[38;5;241m=\u001B[39mengine_kwargs,\n\u001B[1;32m    500\u001B[0m     )\n\u001B[1;32m    501\u001B[0m \u001B[38;5;28;01melif\u001B[39;00m engine \u001B[38;5;129;01mand\u001B[39;00m engine \u001B[38;5;241m!=\u001B[39m io\u001B[38;5;241m.\u001B[39mengine:\n\u001B[1;32m    502\u001B[0m     \u001B[38;5;28;01mraise\u001B[39;00m \u001B[38;5;167;01mValueError\u001B[39;00m(\n\u001B[1;32m    503\u001B[0m         \u001B[38;5;124m\"\u001B[39m\u001B[38;5;124mEngine should not be specified when passing \u001B[39m\u001B[38;5;124m\"\u001B[39m\n\u001B[1;32m    504\u001B[0m         \u001B[38;5;124m\"\u001B[39m\u001B[38;5;124man ExcelFile - ExcelFile already has the engine set\u001B[39m\u001B[38;5;124m\"\u001B[39m\n\u001B[1;32m    505\u001B[0m     )\n",
      "File \u001B[0;32m~/miniconda3/lib/python3.12/site-packages/pandas/io/excel/_base.py:1550\u001B[0m, in \u001B[0;36mExcelFile.__init__\u001B[0;34m(self, path_or_buffer, engine, storage_options, engine_kwargs)\u001B[0m\n\u001B[1;32m   1548\u001B[0m     ext \u001B[38;5;241m=\u001B[39m \u001B[38;5;124m\"\u001B[39m\u001B[38;5;124mxls\u001B[39m\u001B[38;5;124m\"\u001B[39m\n\u001B[1;32m   1549\u001B[0m \u001B[38;5;28;01melse\u001B[39;00m:\n\u001B[0;32m-> 1550\u001B[0m     ext \u001B[38;5;241m=\u001B[39m inspect_excel_format(\n\u001B[1;32m   1551\u001B[0m         content_or_path\u001B[38;5;241m=\u001B[39mpath_or_buffer, storage_options\u001B[38;5;241m=\u001B[39mstorage_options\n\u001B[1;32m   1552\u001B[0m     )\n\u001B[1;32m   1553\u001B[0m     \u001B[38;5;28;01mif\u001B[39;00m ext \u001B[38;5;129;01mis\u001B[39;00m \u001B[38;5;28;01mNone\u001B[39;00m:\n\u001B[1;32m   1554\u001B[0m         \u001B[38;5;28;01mraise\u001B[39;00m \u001B[38;5;167;01mValueError\u001B[39;00m(\n\u001B[1;32m   1555\u001B[0m             \u001B[38;5;124m\"\u001B[39m\u001B[38;5;124mExcel file format cannot be determined, you must specify \u001B[39m\u001B[38;5;124m\"\u001B[39m\n\u001B[1;32m   1556\u001B[0m             \u001B[38;5;124m\"\u001B[39m\u001B[38;5;124man engine manually.\u001B[39m\u001B[38;5;124m\"\u001B[39m\n\u001B[1;32m   1557\u001B[0m         )\n",
      "File \u001B[0;32m~/miniconda3/lib/python3.12/site-packages/pandas/io/excel/_base.py:1402\u001B[0m, in \u001B[0;36minspect_excel_format\u001B[0;34m(content_or_path, storage_options)\u001B[0m\n\u001B[1;32m   1399\u001B[0m \u001B[38;5;28;01mif\u001B[39;00m \u001B[38;5;28misinstance\u001B[39m(content_or_path, \u001B[38;5;28mbytes\u001B[39m):\n\u001B[1;32m   1400\u001B[0m     content_or_path \u001B[38;5;241m=\u001B[39m BytesIO(content_or_path)\n\u001B[0;32m-> 1402\u001B[0m \u001B[38;5;28;01mwith\u001B[39;00m get_handle(\n\u001B[1;32m   1403\u001B[0m     content_or_path, \u001B[38;5;124m\"\u001B[39m\u001B[38;5;124mrb\u001B[39m\u001B[38;5;124m\"\u001B[39m, storage_options\u001B[38;5;241m=\u001B[39mstorage_options, is_text\u001B[38;5;241m=\u001B[39m\u001B[38;5;28;01mFalse\u001B[39;00m\n\u001B[1;32m   1404\u001B[0m ) \u001B[38;5;28;01mas\u001B[39;00m handle:\n\u001B[1;32m   1405\u001B[0m     stream \u001B[38;5;241m=\u001B[39m handle\u001B[38;5;241m.\u001B[39mhandle\n\u001B[1;32m   1406\u001B[0m     stream\u001B[38;5;241m.\u001B[39mseek(\u001B[38;5;241m0\u001B[39m)\n",
      "File \u001B[0;32m~/miniconda3/lib/python3.12/site-packages/pandas/io/common.py:882\u001B[0m, in \u001B[0;36mget_handle\u001B[0;34m(path_or_buf, mode, encoding, compression, memory_map, is_text, errors, storage_options)\u001B[0m\n\u001B[1;32m    873\u001B[0m         handle \u001B[38;5;241m=\u001B[39m \u001B[38;5;28mopen\u001B[39m(\n\u001B[1;32m    874\u001B[0m             handle,\n\u001B[1;32m    875\u001B[0m             ioargs\u001B[38;5;241m.\u001B[39mmode,\n\u001B[0;32m   (...)\u001B[0m\n\u001B[1;32m    878\u001B[0m             newline\u001B[38;5;241m=\u001B[39m\u001B[38;5;124m\"\u001B[39m\u001B[38;5;124m\"\u001B[39m,\n\u001B[1;32m    879\u001B[0m         )\n\u001B[1;32m    880\u001B[0m     \u001B[38;5;28;01melse\u001B[39;00m:\n\u001B[1;32m    881\u001B[0m         \u001B[38;5;66;03m# Binary mode\u001B[39;00m\n\u001B[0;32m--> 882\u001B[0m         handle \u001B[38;5;241m=\u001B[39m \u001B[38;5;28mopen\u001B[39m(handle, ioargs\u001B[38;5;241m.\u001B[39mmode)\n\u001B[1;32m    883\u001B[0m     handles\u001B[38;5;241m.\u001B[39mappend(handle)\n\u001B[1;32m    885\u001B[0m \u001B[38;5;66;03m# Convert BytesIO or file objects passed with an encoding\u001B[39;00m\n",
      "\u001B[0;31mFileNotFoundError\u001B[0m: [Errno 2] No such file or directory: '###'"
     ]
    }
   ],
   "source": [
    "# Import the file path: \n",
    "df = pd.read_excel('###')\n",
    "print(df.head(5))"
   ]
  },
  {
   "cell_type": "markdown",
   "id": "c32b33d0437f6f37",
   "metadata": {},
   "source": [
    "### 13) Plot the data using a line plot: Adapt the provided code\n",
    "\n",
    "A. **Filter for Pittsburgh**  \n",
    "   Select Pittsburgh's data to focus your analysis.\n",
    "\n",
    "B. **Visualize the data by creating a line plot**\n",
    "\n",
    "C. **Label the axes**  \n",
    "   - X-axis: `\"Year\"`  \n",
    "   - Y-axis: `\"Temperature\"`\n",
    "\n",
    "D. **Add a title**  \n",
    "   Add a meaningful title to your plot.\n",
    "   \n",
    "##### Adapt the code in the next cell, fix the ### sections to follow the directions. Everywhere you see a ###, the code needs to be fixed\n",
    "\n",
    "\n"
   ]
  },
  {
   "cell_type": "code",
   "execution_count": null,
   "id": "200430d0ed596dd4",
   "metadata": {},
   "outputs": [],
   "source": [
    "# Edit within the cell \n",
    "\n",
    "data = df\n",
    "# A) \n",
    "# Extract data for Pittsburgh\n",
    "city = '###'\n",
    "city_data = data[['Year', city]]\n",
    "\n",
    "# B) \n",
    "# Plot the data using a line plot\n",
    "plt.figure(figsize=(10, 6))\n",
    "plt.###(city_data['Year'], city_data[city], marker='o')\n",
    "\n",
    "#C) \n",
    "# Label the x-axis and y-axis\n",
    "plt.xlabel('###')\n",
    "plt.ylabel('###')\n",
    "\n",
    "# D) \n",
    "# Add a title to the plot\n",
    "plt.title('###')"
   ]
  },
  {
   "cell_type": "markdown",
   "id": "e92a6bd51d1a8d33",
   "metadata": {},
   "source": [
    "## Trend Lines for Temperature: Use Linear Regression\n",
    "\n",
    "### Why Use Linear Regression?\n",
    "Linear regression is a powerful data analysis technique used to predict the value of unknown data based on related, known data. It works by modeling the relationship between a dependent variable (unknown data) and an independent variable (known data) using a linear equation.\n",
    "\n",
    "**Citation:**  \n",
    "*What is Linear Regression? - Linear Regression Explained - AWS. (n.d.). Amazon Web Services, Inc. Retrieved January 13, 2025, from [https://aws.amazon.com/what-is/linear-regression/](https://aws.amazon.com/what-is/linear-regression/)*\n"
   ]
  },
  {
   "cell_type": "markdown",
   "id": "6e5f5329b15f6c66",
   "metadata": {},
   "source": [
    "### Importance of Linear Regression\n",
    "Linear regression provides a straightforward approach to creating predictive models. It is widely used because it:\n",
    "- Offers an easy-to-interpret mathematical formula for generating predictions.\n",
    "- Applies to a variety of fields, including biological, behavioral, environmental, and social sciences, as well as business and academia.\n",
    "- Provides reliable, scientific predictions that help anticipate future outcomes.\n",
    "- Is a well-established statistical method, with properties that are thoroughly studied and quick to train.\n",
    "\n",
    "Linear regression’s versatility makes it a valuable tool for analyzing trends and creating predictive models across disciplines.\n",
    "\n",
    "**Citation:**  \n",
    "*From IBM: What Is Linear Regression? | IBM. (2021, August 18). Retrieved from [https://www.ibm.com/think/topics/linear-regression](https://www.ibm.com/think/topics/linear-regression/)*"
   ]
  },
  {
   "cell_type": "markdown",
   "id": "a2f3a0965be8ffad",
   "metadata": {},
   "source": [
    "### 14) Enhance Your Plot with a Linear Regression Line\n",
    "Follow the steps below to expand upon your existing line plot and incorporate a linear regression line:\n",
    "\n",
    "A. **Prepare the Data**  \n",
    "   - Extract the `Year` values as `X` (independent variable) and reshape them using `.values.reshape(-1, 1)`.  \n",
    "   - Extract the temperature values for Pittsburgh as `y` (dependent variable).\n",
    "\n",
    "B. **Fit a Linear Regression Model**  \n",
    "   - Use `LinearRegression` from `sklearn.linear_model` to create and fit the model using `X` and `y`.\n",
    "\n",
    "C. **Predict Values**  \n",
    "   - Use the trained model to predict temperature values (`y_pred`) across the years.\n",
    "\n",
    "D. **Add the Regression Line to the Plot**  \n",
    "   - Overlay the regression line on your existing plot.  \n",
    "   - Display the regression line in RED with the label \"Linear Regression.\"\n",
    "\n",
    "E. **Display the Regression Equation**  \n",
    "   - Extract the slope and intercept from the model.  \n",
    "   - Write the equation `y = mx + b` directly on the plot using `plt.text()`.\n",
    "\n",
    "F. **Finalize the Plot**  \n",
    "   - Ensure your plot includes:\n",
    "     - X-axis labeled as `\"Year\"`  \n",
    "     - Y-axis labeled as `\"Temps\"`  \n",
    "     - A descriptive title  \n",
    "     - The regression line with clear visibility and a legend\n",
    "\n",
    "##### Adapt the code in the next cell, fix the ### sections to follow the directions. Everywhere you see a ###, the code needs to be fixed\n"
   ]
  },
  {
   "cell_type": "code",
   "execution_count": null,
   "id": "dd5e5493996c1dd1",
   "metadata": {},
   "outputs": [],
   "source": [
    "data = df\n",
    "# Extract data for Pittsburgh\n",
    "# A) \n",
    "city = '###'\n",
    "city_data = data[['Year', city]]\n",
    "\n",
    "# Plot the data using a line plot\n",
    "plt.figure(figsize=(10, 6))\n",
    "plt.###(city_data['Year'], city_data[city], marker='o')\n",
    "\n",
    "\n",
    "# B) \n",
    "# Prepare data for linear regression\n",
    "### = city_data['Year'].values.reshape(-1, 1)\n",
    "### = city_data[city].values\n",
    "\n",
    "# Create and fit the model\n",
    "model = LinearRegression()\n",
    "model.fit(###, y)\n",
    "\n",
    "# C) \n",
    "# Predict values for the regression line\n",
    "y_pred = model.predict(###)\n",
    "\n",
    "# D) Set the color \n",
    "# Plot the regression line\n",
    "plt.plot(city_data['Year'], y_pred, color='###', linewidth=2, label='Linear Regression')\n",
    "\n",
    "#Slope and intercept of the linear regression line\n",
    "slope = model.coef_[0]\n",
    "intercept = model.intercept_\n",
    "\n",
    "# E) \n",
    "# Display the linear regression equation on the graph\n",
    "equation_text = f'y = {slope:.2f}x + {intercept:.2f}'\n",
    "plt.###(0.05, 0.95, equation_text, transform=plt.gca().transAxes, fontsize=12, verticalalignment='top')\n",
    "\n",
    "# F) Label \n",
    "# Label the x-axis and y-axis\n",
    "plt.xlabel('###')\n",
    "plt.ylabel('###')\n",
    "\n",
    "# Add a title to the plot\n",
    "plt.title('###')\n",
    "\n",
    "# Add a legend\n",
    "plt.legend()\n",
    "\n",
    "# Show the plot\n",
    "plt.show()"
   ]
  },
  {
   "cell_type": "markdown",
   "id": "372d556662bc5757",
   "metadata": {},
   "source": [
    "# Part 4: Histograms and Preprocessing "
   ]
  },
  {
   "cell_type": "markdown",
   "id": "6125785f0296f172",
   "metadata": {},
   "source": [
    "### 15) Create a Histogram\n",
    "\n",
    "A. **Extract the data for Philadelphia**  \n",
    "   Select Philadelphia's data to create the histogram.\n",
    "\n",
    "B. **Create a histogram**  \n",
    "-   Use the `plt` function to create the histogram \n",
    "\n",
    "C. **Set the number of bins**  \n",
    "   Plot the data using a histogram with **5 bins**.\n",
    "\n",
    "D. **Label the axes**  \n",
    "   - X-axis: `\"Temperature Range\"`  \n",
    "   - Y-axis: `\"Frequency\"`\n",
    "\n",
    "E. **Add a title**  \n",
    "   Include a descriptive title for the plot.\n",
    "\n",
    "##### Adapt the code in the next cell, fix the ### sections to follow the directions. Everywhere you see a ###, the code needs to be fixed\n",
    "\n"
   ]
  },
  {
   "cell_type": "code",
   "execution_count": null,
   "id": "98513e5fdfd3f6fb",
   "metadata": {},
   "outputs": [],
   "source": [
    "#A) \n",
    "city = '###'\n",
    "city_data = data[city]\n",
    "\n",
    "# B) and C) \n",
    "# Plot the data using a histogram with 5 bins\n",
    "plt.figure(figsize=(10, 6))\n",
    "plt.###(city_data, bins=###, edgecolor='black')\n",
    "\n",
    "#C) \n",
    "# Label the x-axis and y-axis\n",
    "plt.xlabel('###')\n",
    "plt.ylabel('###')\n",
    "\n",
    "# D)\n",
    "# Add a title to the plot\n",
    "plt.title(f'Histogram of {city}')\n",
    "\n",
    "\n",
    "# Show the plot\n",
    "plt.show()"
   ]
  },
  {
   "cell_type": "markdown",
   "id": "d5b5442ec717554e",
   "metadata": {},
   "source": [
    "## Data Range on the same scale: Use Preprocess and Standardization\n"
   ]
  },
  {
   "cell_type": "markdown",
   "id": "b9b3afbf9dffc140",
   "metadata": {},
   "source": [
    "## Why Preprocess and Standardize Data? \n",
    "\n",
    "### Context:\n",
    "In this example, the range of bins is only 15 degrees. While this range works for this dataset, it may vary with other datasets you encounter. This example is designed to introduce you to the concept of scaling data when needed.\n",
    "\n",
    "### What is Standardization?\n",
    "Standardization transforms data to have:\n",
    "- **Mean = 0**\n",
    "- **Standard deviation = 1**\n",
    "\n",
    "This process is particularly useful when:\n",
    "- Data needs to be on the same scale for comparison.\n",
    "- Algorithms assume a Gaussian distribution or are sensitive to scale, such as:\n",
    "  - Linear Regression\n",
    "  - Logistic Regression\n",
    "  - Support Vector Machines\n",
    "\n",
    "### Why is Standardization Important?\n",
    "Many machine learning algorithms, including linear models, benefit significantly from standardized datasets. In cases where outliers exist, robust scalers or other transformers may be more appropriate.\n",
    "\n",
    "**Citation:**  \n",
    "*6.3. Preprocessing data. (n.d.). Scikit-Learn. Retrieved January 13, 2025, from [https://scikit-learn/stable/modules/preprocessing.html](https://scikit-learn/stable/modules/preprocessing.html)*\n",
    "\n"
   ]
  },
  {
   "cell_type": "markdown",
   "id": "b29cbfdf454117c9",
   "metadata": {},
   "source": [
    "### 16) Standardized Histogram \n",
    "A. **Extract the Data**  \n",
    "   - Select `\"Philadelphia Temperature\"` from the dataset and store it in a variable named `city_data`.\n",
    "\n",
    "B. **Convert Data to NumPy Array**  \n",
    "   - Reshape the data to a 2D array using the `.values.reshape(-1, 1)` method.  \n",
    "     Example:  \n",
    "     ```python\n",
    "     values = city_data.values.reshape(-1, 1)\n",
    "     ```\n",
    "\n",
    "C. **Apply Standard Scaling**  \n",
    "   - Use `StandardScaler` from `sklearn.preprocessing` to standardize the data.  \n",
    "     - Transform the data to have a **mean of 0** and **standard deviation of 1**.  \n",
    "     - Flatten the transformed data for further processing.  \n",
    "     Example:  \n",
    "     ```python\n",
    "     scaler = StandardScaler()\n",
    "     data_scaled = scaler.fit_transform(values).flatten()\n",
    "     ```\n",
    "\n",
    "D. **Create the Histogram**  \n",
    "   - Plot the standardized data using a histogram with **5 bins** and distinguishable edges.  \n",
    "   - Update the x-axis to reflect the standardized data.  \n",
    "\n",
    "E. **Label the Axes and Title**  \n",
    "   - X-axis: `\"Standardized Range\"`  \n",
    "   - Y-axis: `\"Frequency\"`  \n",
    "   - Add a descriptive title, e.g., `\"Histogram of Philadelphia Temperature preprocessed\"`.\n",
    "\n",
    "##### Adapt the code in the next cell, fix the ### sections to follow the directions. Everywhere you see a ###, the code needs to be fixed\n"
   ]
  },
  {
   "cell_type": "code",
   "execution_count": null,
   "id": "25787eea836fd8e9",
   "metadata": {},
   "outputs": [],
   "source": [
    "#A) \n",
    "city = '###'\n",
    "city_data = data[city]\n",
    "\n",
    "# B)\n",
    "# Convert the city data to a NumPy array and reshape it\n",
    "values = ### \n",
    "\n",
    "# C) \n",
    "# Preprocess data using sklearn (e.g., standard scaling)\n",
    "scaler = ### \n",
    "data_scaled = scaler.### \n",
    "\n",
    "# D) \n",
    "# Plot the data using a histogram with 5 bins\n",
    "plt.figure(figsize=(10, 6))\n",
    "plt.###(city_data, bins=###, edgecolor='black')\n",
    "\n",
    "#E) \n",
    "# Label the x-axis and y-axis\n",
    "plt.xlabel('###')\n",
    "plt.ylabel('###')\n",
    "# Add a title to the plot\n",
    "plt.title(f'Histogram of {city}')\n",
    "\n",
    "# Show the plot\n",
    "plt.show()"
   ]
  },
  {
   "cell_type": "markdown",
   "id": "df1be9eb3d4d48cf",
   "metadata": {},
   "source": "### 17) What axis changed from the first histogram? "
  },
  {
   "cell_type": "markdown",
   "id": "6eeba29e87305872",
   "metadata": {},
   "source": [
    "*answer here* ###"
   ]
  },
  {
   "cell_type": "markdown",
   "id": "fa35e23832db02ce",
   "metadata": {},
   "source": [
    "# Part 5: Numpy  \n",
    "### Read over the following section, the code writing is optional"
   ]
  },
  {
   "cell_type": "markdown",
   "id": "77c41b1ed72f0718",
   "metadata": {},
   "source": [
    "### 18) Roman Numeral Questions: Are there any roman numeral questions below that you find unclear or difficult to complete? \n",
    "\n",
    "Your responses will help the instructional team the class's  current understanding of Python. Full credit will be awarded for any answer provided\n"
   ]
  },
  {
   "cell_type": "markdown",
   "id": "e1f021809e71369c",
   "metadata": {},
   "source": [
    "*answer here* ###"
   ]
  },
  {
   "cell_type": "markdown",
   "id": "3cfb34f18f184072",
   "metadata": {},
   "source": [
    "### Optional Questions "
   ]
  },
  {
   "cell_type": "markdown",
   "id": "bbf1a2875b217fe",
   "metadata": {},
   "source": [
    "#### I) Create a 1D array of numbers from 0 to 5"
   ]
  },
  {
   "cell_type": "code",
   "execution_count": null,
   "id": "1fd8f78d0972db75",
   "metadata": {},
   "outputs": [],
   "source": [
    "# Code here "
   ]
  },
  {
   "cell_type": "markdown",
   "id": "91efd94d234fbebf",
   "metadata": {},
   "source": [
    "#### II) Create a 2×2 numpy array of all True’s"
   ]
  },
  {
   "cell_type": "code",
   "execution_count": null,
   "id": "d3564a9bba70f4be",
   "metadata": {},
   "outputs": [],
   "source": [
    "# Code here "
   ]
  },
  {
   "cell_type": "markdown",
   "id": "5ace6547afad2354",
   "metadata": {},
   "source": [
    "#### III) Stack the following two arrays vertically\n",
    "A = [1, 3, 4] \n",
    "B = [5, 7, 8]"
   ]
  },
  {
   "cell_type": "code",
   "execution_count": null,
   "id": "e53e845c2252c9b1",
   "metadata": {},
   "outputs": [],
   "source": [
    "# Code here "
   ]
  },
  {
   "cell_type": "markdown",
   "id": "438851e73c5e2679",
   "metadata": {},
   "source": [
    "#### IV) How would you append A and B together to form one long array? "
   ]
  },
  {
   "cell_type": "code",
   "execution_count": null,
   "id": "b11196982edb447f",
   "metadata": {},
   "outputs": [],
   "source": [
    "# Code here "
   ]
  },
  {
   "cell_type": "markdown",
   "id": "d32f805880eac9ab",
   "metadata": {},
   "source": [
    "#### V) Create a 3 x 3 array with independent random variables, in an array, from an N (0, 1) distribution. Name the array rand "
   ]
  },
  {
   "cell_type": "code",
   "execution_count": null,
   "id": "83421143af9f06be",
   "metadata": {},
   "outputs": [],
   "source": [
    "# Code here "
   ]
  }
 ],
 "metadata": {
  "kernelspec": {
   "display_name": "Python 3 (ipykernel)",
   "language": "python",
   "name": "python3"
  },
  "language_info": {
   "codemirror_mode": {
    "name": "ipython",
    "version": 3
   },
   "file_extension": ".py",
   "mimetype": "text/x-python",
   "name": "python",
   "nbconvert_exporter": "python",
   "pygments_lexer": "ipython3",
   "version": "3.12.4"
  }
 },
 "nbformat": 4,
 "nbformat_minor": 5
}
